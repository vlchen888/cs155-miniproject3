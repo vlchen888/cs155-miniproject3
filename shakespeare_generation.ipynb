{
 "cells": [
  {
   "cell_type": "code",
   "execution_count": 111,
   "metadata": {},
   "outputs": [
    {
     "name": "stdout",
     "output_type": "stream",
     "text": [
      "The autoreload extension is already loaded. To reload it, use:\n",
      "  %reload_ext autoreload\n"
     ]
    }
   ],
   "source": [
    "import numpy as np\n",
    "from HMM import unsupervised_HMM\n",
    "from Utility import Utility\n",
    "%load_ext autoreload\n",
    "%autoreload 2"
   ]
  },
  {
   "cell_type": "code",
   "execution_count": 112,
   "metadata": {},
   "outputs": [],
   "source": [
    "author = 2\n",
    "util = Utility()\n",
    "if author == 0:\n",
    "    sonnets = util.get_shakespeare()\n",
    "elif author == 1:\n",
    "    sonnets = util.get_spenser()\n",
    "else:\n",
    "    sonnets = util.get_collab()"
   ]
  },
  {
   "cell_type": "markdown",
   "metadata": {},
   "source": [
    "## Naive HMM"
   ]
  },
  {
   "cell_type": "code",
   "execution_count": null,
   "metadata": {},
   "outputs": [],
   "source": [
    "for i in range(1, 20):\n",
    "    util.parse_observations(sonnets[i])"
   ]
  },
  {
   "cell_type": "code",
   "execution_count": null,
   "metadata": {},
   "outputs": [],
   "source": [
    "hmm = unsupervised_HMM(util.obs, 10, 100)"
   ]
  },
  {
   "cell_type": "code",
   "execution_count": null,
   "metadata": {},
   "outputs": [],
   "source": [
    "util.sample_line_naive(hmm, n_words = 10)"
   ]
  },
  {
   "cell_type": "markdown",
   "metadata": {
    "collapsed": true
   },
   "source": [
    "## Rhyme and syllable HMM"
   ]
  },
  {
   "cell_type": "code",
   "execution_count": 113,
   "metadata": {},
   "outputs": [],
   "source": [
    "if author == 0:\n",
    "    for i in sonnets:\n",
    "        if i not in [99, 126]:\n",
    "            util.parse_observations_reverse(sonnets[i])\n",
    "            util.load_rhyme_list(sonnets[i])\n",
    "elif author == 1:        \n",
    "    for i in sonnets:\n",
    "        if i not in 84:\n",
    "            util.parse_observations_reverse(sonnets[i])\n",
    "            util.load_rhyme_list(sonnets[i])\n",
    "else:\n",
    "    for i in sonnets:\n",
    "        if i not in [11,126,238]:\n",
    "            util.parse_observations_reverse(sonnets[i])\n",
    "            util.load_rhyme_list(sonnets[i])"
   ]
  },
  {
   "cell_type": "code",
   "execution_count": 118,
   "metadata": {},
   "outputs": [
    {
     "name": "stdout",
     "output_type": "stream",
     "text": [
      "Every 10 iterations, prints the Frobenius norm of the difference\n",
      "between A/O matrix from 10 iterations ago and the current A/O matrix\n",
      "Iteration: 10\n",
      "A diff: 0.7964462216603926\n",
      "O diff: 0.2812249132179917\n",
      "Iteration: 20\n",
      "A diff: 0.9968226220105972\n",
      "O diff: 0.20104149961177697\n",
      "Iteration: 30\n",
      "A diff: 0.26043105030940356\n",
      "O diff: 0.06924574212207585\n",
      "Iteration: 40\n",
      "A diff: 0.08309223333379741\n",
      "O diff: 0.034670855706704876\n",
      "Iteration: 50\n",
      "A diff: 0.0488129856626549\n",
      "O diff: 0.02210215046622138\n",
      "Iteration: 60\n",
      "A diff: 0.04186550650135977\n",
      "O diff: 0.015612155347228564\n",
      "Iteration: 70\n",
      "A diff: 0.031236835061197003\n",
      "O diff: 0.012634506704233758\n",
      "Iteration: 80\n",
      "A diff: 0.013281405259470408\n",
      "O diff: 0.010326102343773055\n",
      "Iteration: 90\n",
      "A diff: 0.01875161152443239\n",
      "O diff: 0.009957978818787494\n",
      "Iteration: 100\n",
      "A diff: 0.01779892961249276\n",
      "O diff: 0.009681471705844213\n",
      "Iteration: 110\n",
      "A diff: 0.012536565715898687\n",
      "O diff: 0.007618007668255997\n",
      "Iteration: 120\n",
      "A diff: 0.011893336349791023\n",
      "O diff: 0.007714296964868426\n",
      "Iteration: 130\n",
      "A diff: 0.012255437355601527\n",
      "O diff: 0.007760366579149225\n",
      "Iteration: 140\n",
      "A diff: 0.008935873409623336\n",
      "O diff: 0.004786600573664667\n"
     ]
    }
   ],
   "source": [
    "hmm = unsupervised_HMM(util.obs, 10, 140)"
   ]
  },
  {
   "cell_type": "code",
   "execution_count": 133,
   "metadata": {},
   "outputs": [
    {
     "name": "stdout",
     "output_type": "stream",
     "text": [
      "Ne not to so I be truth, with a amend,\n",
      "Drinks love name let of the view thou most eye,\n",
      "Me of the as but make the storms offend\n",
      "But the to my wrong, inhearse, history\n",
      "But in not keep thy be part sweet you, life,\n",
      "His one, on foul shall art now I all make\n",
      "Her clay, ere but her go I i to knife\n",
      "Yield that from the through sharp robe with that take\n",
      "Then you to your sparks which and if at well,\n",
      "Which fraught o hell I mine stars me, gain, show,\n",
      "What I in end, thing her where the her sell\n",
      "Greet kept base to not with where ere that grow\n",
      "Should thy my dream, were care you grace at spend,\n",
      "His have, of muse comes one of your extend,\n"
     ]
    }
   ],
   "source": [
    "a1, a2 = util.sample_line(hmm)\n",
    "b1, b2 = util.sample_line(hmm)\n",
    "c1, c2 = util.sample_line(hmm)\n",
    "d1, d2 = util.sample_line(hmm)\n",
    "e1, e2 = util.sample_line(hmm)\n",
    "f1, f2 = util.sample_line(hmm)\n",
    "g1, g2 = util.sample_line(hmm)\n",
    "print(a1)\n",
    "print(b1)\n",
    "print(a2)\n",
    "print(b2)\n",
    "print(c1)\n",
    "print(d1)\n",
    "print(c2)\n",
    "print(d2)\n",
    "print(e1)\n",
    "print(f1)\n",
    "print(e2)\n",
    "print(f2)\n",
    "print(g1)\n",
    "print(g2)"
   ]
  },
  {
   "cell_type": "code",
   "execution_count": null,
   "metadata": {},
   "outputs": [],
   "source": []
  }
 ],
 "metadata": {
  "anaconda-cloud": {},
  "kernelspec": {
   "display_name": "Python 3",
   "language": "python",
   "name": "python3"
  },
  "language_info": {
   "codemirror_mode": {
    "name": "ipython",
    "version": 3
   },
   "file_extension": ".py",
   "mimetype": "text/x-python",
   "name": "python",
   "nbconvert_exporter": "python",
   "pygments_lexer": "ipython3",
   "version": "3.6.4"
  }
 },
 "nbformat": 4,
 "nbformat_minor": 1
}
