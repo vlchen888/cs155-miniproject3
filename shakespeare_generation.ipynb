{
 "cells": [
  {
   "cell_type": "code",
   "execution_count": 1,
   "metadata": {
    "collapsed": true
   },
   "outputs": [],
   "source": [
    "import numpy as np\n",
    "from HMM import unsupervised_HMM\n",
    "from Utility import Utility"
   ]
  },
  {
   "cell_type": "code",
   "execution_count": 26,
   "metadata": {
    "collapsed": true
   },
   "outputs": [],
   "source": [
    "util = Utility()\n",
    "sonnets = util.get_shakespeare()"
   ]
  },
  {
   "cell_type": "markdown",
   "metadata": {},
   "source": [
    "## Naive HMM"
   ]
  },
  {
   "cell_type": "code",
   "execution_count": null,
   "metadata": {
    "collapsed": true
   },
   "outputs": [],
   "source": [
    "for i in range(1, 20):\n",
    "    util.parse_observations(sonnets[i])"
   ]
  },
  {
   "cell_type": "code",
   "execution_count": null,
   "metadata": {
    "collapsed": true
   },
   "outputs": [],
   "source": [
    "hmm = unsupervised_HMM(util.obs, 10, 100)"
   ]
  },
  {
   "cell_type": "code",
   "execution_count": null,
   "metadata": {
    "collapsed": true
   },
   "outputs": [],
   "source": [
    "util.sample_line_naive(hmm, n_words = 10)"
   ]
  },
  {
   "cell_type": "markdown",
   "metadata": {
    "collapsed": true
   },
   "source": [
    "## Rhyme and syllable HMM"
   ]
  },
  {
   "cell_type": "code",
   "execution_count": 27,
   "metadata": {
    "collapsed": true
   },
   "outputs": [],
   "source": [
    "for i in sonnets:\n",
    "    if i not in [99, 126]:\n",
    "        util.parse_observations_reverse(sonnets[i])\n",
    "        util.load_rhyme_list(sonnets[i])"
   ]
  },
  {
   "cell_type": "code",
   "execution_count": 32,
   "metadata": {
    "collapsed": false
   },
   "outputs": [
    {
     "name": "stdout",
     "output_type": "stream",
     "text": [
      "Every 10 iterations, prints the Frobenius norm of the difference\n",
      "between A/O matrix from 10 iterations ago and the current A/O matrix\n",
      "Iteration: 10\n",
      "A diff: 0.8118117443647752\n",
      "O diff: 0.2906175641801043\n",
      "Iteration: 20\n",
      "A diff: 0.7571056184922117\n",
      "O diff: 0.11271593970192947\n",
      "Iteration: 30\n",
      "A diff: 0.23816721809669392\n",
      "O diff: 0.0401939791354201\n",
      "Iteration: 40\n",
      "A diff: 0.08798066365836749\n",
      "O diff: 0.022854352607547073\n",
      "Iteration: 50\n",
      "A diff: 0.06275200508195398\n",
      "O diff: 0.017740184720839852\n",
      "Iteration: 60\n",
      "A diff: 0.04983713776813339\n",
      "O diff: 0.012949360929566967\n",
      "Iteration: 70\n",
      "A diff: 0.031765829997545375\n",
      "O diff: 0.009934190847947477\n",
      "Iteration: 80\n",
      "A diff: 0.023444628167510456\n",
      "O diff: 0.0074633694010138255\n",
      "Iteration: 90\n",
      "A diff: 0.017761829288988458\n",
      "O diff: 0.006446569756285525\n",
      "Iteration: 100\n",
      "A diff: 0.014260738979809512\n",
      "O diff: 0.0065561653726198665\n"
     ]
    }
   ],
   "source": [
    "hmm = unsupervised_HMM(util.obs, 8, 100)"
   ]
  },
  {
   "cell_type": "code",
   "execution_count": 35,
   "metadata": {
    "collapsed": false
   },
   "outputs": [
    {
     "name": "stdout",
     "output_type": "stream",
     "text": [
      "Made that my trouble of passed shall hers out thee,\n",
      "Of to thoughts and seem thou death's and ay, fixed,\n",
      "Thee mine than not crow, the should in i be\n",
      "Thine, of wood's of the bad, thy intermixed'\n",
      "Which all change you worse how his desire sweetness,\n",
      "Heart no to be that is on be gone day,\n",
      "Thou towers now the more costs, that i form meetness,\n",
      "Gave the will from with but time to away\n",
      "Do not to is, or look i dumb high eyes,\n",
      "Proved, but tongue are from and bay age be veins,\n",
      "My have me what o hath all nor foot lies,\n",
      "Am give my hear none it is and the gains\n",
      "The when that and will of me outcast days,\n",
      "My to for all time for more power, decays\n"
     ]
    }
   ],
   "source": [
    "a1, a2 = util.sample_line(hmm)\n",
    "b1, b2 = util.sample_line(hmm)\n",
    "c1, c2 = util.sample_line(hmm)\n",
    "d1, d2 = util.sample_line(hmm)\n",
    "e1, e2 = util.sample_line(hmm)\n",
    "f1, f2 = util.sample_line(hmm)\n",
    "g1, g2 = util.sample_line(hmm)\n",
    "print(a1)\n",
    "print(b1)\n",
    "print(a2)\n",
    "print(b2)\n",
    "print(c1)\n",
    "print(d1)\n",
    "print(c2)\n",
    "print(d2)\n",
    "print(e1)\n",
    "print(f1)\n",
    "print(e2)\n",
    "print(f2)\n",
    "print(g1)\n",
    "print(g2)"
   ]
  },
  {
   "cell_type": "code",
   "execution_count": null,
   "metadata": {
    "collapsed": true
   },
   "outputs": [],
   "source": []
  }
 ],
 "metadata": {
  "anaconda-cloud": {},
  "kernelspec": {
   "display_name": "Python [Root]",
   "language": "python",
   "name": "Python [Root]"
  },
  "language_info": {
   "codemirror_mode": {
    "name": "ipython",
    "version": 3
   },
   "file_extension": ".py",
   "mimetype": "text/x-python",
   "name": "python",
   "nbconvert_exporter": "python",
   "pygments_lexer": "ipython3",
   "version": "3.5.2"
  }
 },
 "nbformat": 4,
 "nbformat_minor": 1
}
