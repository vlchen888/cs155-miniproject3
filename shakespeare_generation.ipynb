{
 "cells": [
  {
   "cell_type": "code",
   "execution_count": 1,
   "metadata": {},
   "outputs": [],
   "source": [
    "import numpy as np\n",
    "from HMM import unsupervised_HMM\n",
    "from Utility import Utility\n",
    "%load_ext autoreload\n",
    "%autoreload 2"
   ]
  },
  {
   "cell_type": "code",
   "execution_count": 2,
   "metadata": {},
   "outputs": [],
   "source": [
    "author = 2\n",
    "util = Utility()\n",
    "if author == 0:\n",
    "    sonnets = util.get_shakespeare()\n",
    "elif author == 1:\n",
    "    sonnets = util.get_spenser()\n",
    "else:\n",
    "    sonnets = util.get_collab()"
   ]
  },
  {
   "cell_type": "markdown",
   "metadata": {},
   "source": [
    "## Naive HMM"
   ]
  },
  {
   "cell_type": "code",
   "execution_count": null,
   "metadata": {},
   "outputs": [],
   "source": [
    "for i in range(1, 20):\n",
    "    util.parse_observations(sonnets[i])"
   ]
  },
  {
   "cell_type": "code",
   "execution_count": null,
   "metadata": {},
   "outputs": [],
   "source": [
    "hmm = unsupervised_HMM(util.obs, 10, 100)"
   ]
  },
  {
   "cell_type": "code",
   "execution_count": null,
   "metadata": {},
   "outputs": [],
   "source": [
    "util.sample_line_naive(hmm, n_words = 10)"
   ]
  },
  {
   "cell_type": "markdown",
   "metadata": {
    "collapsed": true
   },
   "source": [
    "## Rhyme and syllable HMM"
   ]
  },
  {
   "cell_type": "code",
   "execution_count": 3,
   "metadata": {},
   "outputs": [],
   "source": [
    "if author == 0:\n",
    "    for i in sonnets:\n",
    "        if i not in [99, 126]:\n",
    "            util.parse_observations_reverse(sonnets[i])\n",
    "            util.load_rhyme_list(sonnets[i])\n",
    "    util.make_rhyme_classes()\n",
    "elif author == 1:        \n",
    "    for i in sonnets:\n",
    "        if i not in 84:\n",
    "            util.parse_observations_reverse(sonnets[i])\n",
    "            util.load_rhyme_list(sonnets[i])\n",
    "    util.make_rhyme_classes()\n",
    "else:\n",
    "    for i in sonnets:\n",
    "        if i not in [11,126,238]:\n",
    "            util.parse_observations_reverse(sonnets[i])\n",
    "            util.load_rhyme_list(sonnets[i])\n",
    "    util.make_rhyme_classes()"
   ]
  },
  {
   "cell_type": "code",
   "execution_count": 18,
   "metadata": {},
   "outputs": [
    {
     "name": "stdout",
     "output_type": "stream",
     "text": [
      "Every 10 iterations, prints the Frobenius norm of the difference\n",
      "between A/O matrix from 10 iterations ago and the current A/O matrix\n",
      "Iteration: 10\n",
      "A diff: 0.5865505225129191\n",
      "O diff: 0.2793571057651113\n",
      "Iteration: 20\n",
      "A diff: 1.0987173940282229\n",
      "O diff: 0.19677392020122875\n",
      "Iteration: 30\n",
      "A diff: 0.42152028720219176\n",
      "O diff: 0.08562966560311872\n",
      "Iteration: 40\n",
      "A diff: 0.21310256392163202\n",
      "O diff: 0.04783189410399852\n",
      "Iteration: 50\n",
      "A diff: 0.14129916588450053\n",
      "O diff: 0.03284245309195086\n",
      "Iteration: 60\n",
      "A diff: 0.10977802045236837\n",
      "O diff: 0.024986415476949825\n",
      "Iteration: 70\n",
      "A diff: 0.05695902113303858\n",
      "O diff: 0.01817875698671784\n",
      "Iteration: 80\n",
      "A diff: 0.032899988343203755\n",
      "O diff: 0.01574587153422338\n",
      "Iteration: 90\n",
      "A diff: 0.026136677311162662\n",
      "O diff: 0.012700078267236362\n",
      "Iteration: 100\n",
      "A diff: 0.019689944413652054\n",
      "O diff: 0.010724647070726545\n",
      "Iteration: 110\n",
      "A diff: 0.020899811355351246\n",
      "O diff: 0.010850289220769041\n",
      "Iteration: 120\n",
      "A diff: 0.017820584008372657\n",
      "O diff: 0.008993015124594179\n",
      "Iteration: 130\n",
      "A diff: 0.014422366036142397\n",
      "O diff: 0.007662210612738044\n",
      "Iteration: 140\n",
      "A diff: 0.011268960095079009\n",
      "O diff: 0.007198719871135514\n"
     ]
    }
   ],
   "source": [
    "hmm = unsupervised_HMM(util.obs, 10, 140)"
   ]
  },
  {
   "cell_type": "code",
   "execution_count": 45,
   "metadata": {},
   "outputs": [
    {
     "name": "stdout",
     "output_type": "stream",
     "text": [
      "Nor eyes well do with said oft so praise open\n",
      "O of of art the my love idly scope,\n",
      "Thee, thou I your name me his cruel broken,\n",
      "Their that the was were but my self and hope,\n",
      "Hear he old me and self, in his commend\n",
      "The lack were make where and such can due wrought,\n",
      "Heart strength all my and not wilt gentle mend\n",
      "Of both him of my cast past rough upbrought,\n",
      "Words as they as all one, I golden write,\n",
      "My book why an too prince's images\n",
      "Then now how my whilst and drops for thy bright\n",
      "Of hast so I love not thy which ages,\n",
      "Strong thou sweet bane the is but heart spirit,\n",
      "Me and my if true would like her more merit\n"
     ]
    }
   ],
   "source": [
    "# Shakespearean sonnet\n",
    "a = util.sample_line_mult(hmm,2)\n",
    "b = util.sample_line_mult(hmm,2)\n",
    "c = util.sample_line_mult(hmm,2)\n",
    "d = util.sample_line_mult(hmm,2)\n",
    "e = util.sample_line_mult(hmm,2)\n",
    "f = util.sample_line_mult(hmm,2)\n",
    "g = util.sample_line_mult(hmm,2)\n",
    "\n",
    "print(a[0])\n",
    "print(b[0])\n",
    "print(a[1])\n",
    "print(b[1])\n",
    "print(c[0])\n",
    "print(d[0])\n",
    "print(c[1])\n",
    "print(d[1])\n",
    "print(e[0])\n",
    "print(f[0])\n",
    "print(e[1])\n",
    "print(f[1])\n",
    "print(g[0])\n",
    "print(g[1])"
   ]
  },
  {
   "cell_type": "code",
   "execution_count": 47,
   "metadata": {},
   "outputs": [
    {
     "name": "stdout",
     "output_type": "stream",
     "text": [
      "A which all hear'st as you within,\n",
      "You and look shows time, worth his sin,\n",
      "Taught old his vain hands,\n",
      "Raised caught should with bands,\n",
      "Make whom three self bosoms begin\n"
     ]
    }
   ],
   "source": [
    "# Limerick\n",
    "a = util.sample_line_mult(hmm,3,n_syllables=8)\n",
    "b = util.sample_line_mult(hmm,2,n_syllables=5)\n",
    "\n",
    "print(a[0])\n",
    "print(a[1])\n",
    "print(b[0])\n",
    "print(b[1])\n",
    "print(a[2])"
   ]
  },
  {
   "cell_type": "code",
   "execution_count": 37,
   "metadata": {},
   "outputs": [
    {
     "name": "stdout",
     "output_type": "stream",
     "text": [
      "Fool with must complain\n",
      "Where thee if part, jollity,\n",
      "Thou more but makes doubt,\n"
     ]
    }
   ],
   "source": [
    "# Haiku\n",
    "a = util.sample_line_mult(hmm,3,n_syllables=5)\n",
    "b = util.sample_line_mult(hmm,2,n_syllables=7)\n",
    "c = util.sample_line_mult(hmm,3,n_syllables=5)\n",
    "\n",
    "print(a[0])\n",
    "print(b[0])\n",
    "print(c[0])"
   ]
  }
 ],
 "metadata": {
  "anaconda-cloud": {},
  "kernelspec": {
   "display_name": "Python 3",
   "language": "python",
   "name": "python3"
  },
  "language_info": {
   "codemirror_mode": {
    "name": "ipython",
    "version": 3
   },
   "file_extension": ".py",
   "mimetype": "text/x-python",
   "name": "python",
   "nbconvert_exporter": "python",
   "pygments_lexer": "ipython3",
   "version": "3.6.4"
  }
 },
 "nbformat": 4,
 "nbformat_minor": 1
}
